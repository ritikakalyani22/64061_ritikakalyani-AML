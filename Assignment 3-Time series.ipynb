{
 "cells": [
  {
   "cell_type": "markdown",
   "id": "465d3443-3fa7-4743-a6a1-f03e2995ee42",
   "metadata": {
    "tags": []
   },
   "source": [
    "# Assignment:2 Deep learning for timeseries"
   ]
  },
  {
   "cell_type": "markdown",
   "id": "54bb50f8-a176-4ce5-a054-42ee33aa8028",
   "metadata": {},
   "source": [
    "## Different kinds of timeseries tasks"
   ]
  },
  {
   "cell_type": "markdown",
   "id": "b499a80e-2345-4c39-93d8-41c73818c638",
   "metadata": {},
   "source": [
    "## A Temperature forecasting Example- Downloading and uncompressing the data"
   ]
  },
  {
   "cell_type": "code",
   "execution_count": 1,
   "id": "d835583e-38ed-47c1-a552-a876d6c1faea",
   "metadata": {},
   "outputs": [
    {
     "name": "stdout",
     "output_type": "stream",
     "text": [
      "--2024-04-09 00:20:10--  https://s3.amazonaws.com/keras-datasets/jena_climate_2009_2016.csv.zip\n",
      "Resolving s3.amazonaws.com (s3.amazonaws.com)... 52.216.245.206, 52.217.102.22, 52.216.76.246, ...\n",
      "Connecting to s3.amazonaws.com (s3.amazonaws.com)|52.216.245.206|:443... connected.\n",
      "HTTP request sent, awaiting response... 200 OK\n",
      "Length: 13565642 (13M) [application/zip]\n",
      "Saving to: ‘jena_climate_2009_2016.csv.zip’\n",
      "\n",
      "100%[======================================>] 13,565,642  23.2MB/s   in 0.6s   \n",
      "\n",
      "2024-04-09 00:20:11 (23.2 MB/s) - ‘jena_climate_2009_2016.csv.zip’ saved [13565642/13565642]\n",
      "\n",
      "Archive:  jena_climate_2009_2016.csv.zip\n",
      "  inflating: jena_climate_2009_2016.csv  \n",
      "  inflating: __MACOSX/._jena_climate_2009_2016.csv  \n"
     ]
    }
   ],
   "source": [
    "!wget https://s3.amazonaws.com/keras-datasets/jena_climate_2009_2016.csv.zip\n",
    "!unzip jena_climate_2009_2016.csv.zip"
   ]
  },
  {
   "cell_type": "markdown",
   "id": "7fbdf3eb-7771-424f-b157-5c6cb9991a2a",
   "metadata": {},
   "source": [
    "## Inspecting the Data of the Jena weather dataset"
   ]
  },
  {
   "cell_type": "code",
   "execution_count": 2,
   "id": "d3ae1236-fc1b-45e5-afaa-0326ee6f56a9",
   "metadata": {},
   "outputs": [
    {
     "name": "stdout",
     "output_type": "stream",
     "text": [
      "['\"Date Time\"', '\"p (mbar)\"', '\"T (degC)\"', '\"Tpot (K)\"', '\"Tdew (degC)\"', '\"rh (%)\"', '\"VPmax (mbar)\"', '\"VPact (mbar)\"', '\"VPdef (mbar)\"', '\"sh (g/kg)\"', '\"H2OC (mmol/mol)\"', '\"rho (g/m**3)\"', '\"wv (m/s)\"', '\"max. wv (m/s)\"', '\"wd (deg)\"']\n",
      "420451\n"
     ]
    }
   ],
   "source": [
    "import os\n",
    "fname = os.path.join(\"jena_climate_2009_2016.csv\")\n",
    "\n",
    "with open(fname) as f:\n",
    "    data = f.read()\n",
    "\n",
    "lines = data.split(\"\\n\")\n",
    "header = lines[0].split(\",\")\n",
    "lines = lines[1:]\n",
    "print(header)\n",
    "print(len(lines))"
   ]
  },
  {
   "cell_type": "markdown",
   "id": "fc7627eb-30e1-49d5-ab97-7a5cff2ebff6",
   "metadata": {},
   "source": [
    "This outputs a count of 420,551 lines of data (each line is a timestep: a record of a date and 14 weather-related values), as well as the following header:\n",
    "\n",
    "[\"Date Time\",\n",
    "\n",
    "\"p (mbar)\",\n",
    "\n",
    "\"T (degC)\",\n",
    "\n",
    "\"Tpot (K)\",\n",
    "\n",
    "\"Tdew (degC)\", \"rh (%)\",\n",
    "\n",
    "\"VPmax (mbar)\",\n",
    "\n",
    "\"VPact (mbar)\",\n",
    "\n",
    "\"VPdef (mbar)\",\n",
    "\n",
    "\"sh (g/kg)\",\n",
    "\n",
    "\"H2OC (mmol/mol)\",\n",
    "\n",
    "\"rho (g/m**3)\",\n",
    "\n",
    "\"wv (m/s)\",\n",
    "\n",
    "\"max. wv (m/s)\",\n",
    "\n",
    "\"wd (deg)\"]"
   ]
  },
  {
   "cell_type": "markdown",
   "id": "5a4e18ce-3b75-47e0-b386-23f1239e1fec",
   "metadata": {},
   "source": [
    "## Parsing the data"
   ]
  },
  {
   "cell_type": "markdown",
   "id": "007d5de6-dd7d-4254-8753-69984a472cd7",
   "metadata": {},
   "source": [
    "Now, convert all 420,551 lines of data into NumPy arrays: one array for the temperature (in degrees Celsius), and another one for the rest of the data—the features we will use to predict future temperatures. Note that we discard the “Date Time” column.\n",
    "\n"
   ]
  },
  {
   "cell_type": "code",
   "execution_count": 3,
   "id": "0402ae23-3d05-4c11-92d7-2942dd426e1f",
   "metadata": {},
   "outputs": [],
   "source": [
    "import numpy as np\n",
    "temperature = np.zeros((len(lines),))\n",
    "raw_data = np.zeros((len(lines), len(header) - 1))\n",
    "for i, line in enumerate(lines):\n",
    " values = [float(x) for x in line.split(\",\")[1:]]\n",
    " temperature[i] = values[1]\n",
    " raw_data[i, :] = values[:]"
   ]
  },
  {
   "cell_type": "markdown",
   "id": "d53f85c4-2c58-4f2a-806a-3c780a3811b3",
   "metadata": {},
   "source": [
    "## Plotting the temperature timeseries"
   ]
  },
  {
   "cell_type": "code",
   "execution_count": 4,
   "id": "bb1ce527-2af8-425f-8adc-365b1103218e",
   "metadata": {},
   "outputs": [
    {
     "data": {
      "text/plain": [
       "[<matplotlib.lines.Line2D at 0x7f32ba54c4a8>]"
      ]
     },
     "execution_count": 4,
     "metadata": {},
     "output_type": "execute_result"
    },
    {
     "data": {
      "image/png": "[encoded data removed]",
      "text/plain": [
       "<Figure size 432x288 with 1 Axes>"
      ]
     },
     "metadata": {
      "needs_background": "light"
     },
     "output_type": "display_data"
    }
   ],
   "source": [
    "from matplotlib import pyplot as plt\n",
    "plt.plot(range(len(temperature)), temperature)"
   ]
  },
  {
   "cell_type": "markdown",
   "id": "79620a4b-894c-4cf2-94df-98809a621c9a",
   "metadata": {},
   "source": [
    "The above graph shows the plot of temperature (in degrees Celsius) over time. On this plot, you can clearly see the yearly periodicity of temperature—the data spans 8 years."
   ]
  },
  {
   "cell_type": "markdown",
   "id": "dd3946cd-49f7-4885-b2c8-4c9516eec888",
   "metadata": {},
   "source": [
    "## Plotting the first 10 days of the temperature timeseries"
   ]
  },
  {
   "cell_type": "code",
   "execution_count": 5,
   "id": "d323fe7e-913f-4997-b7b4-2f36885a1842",
   "metadata": {},
   "outputs": [
    {
     "data": {
      "text/plain": [
       "[<matplotlib.lines.Line2D at 0x7f32b2441be0>]"
      ]
     },
     "execution_count": 5,
     "metadata": {},
     "output_type": "execute_result"
    },
    {
     "data": {
      "image/png": "[encoded data removed]",
      "text/plain": [
       "<Figure size 432x288 with 1 Axes>"
      ]
     },
     "metadata": {
      "needs_background": "light"
     },
     "output_type": "display_data"
    }
   ],
   "source": [
    "plt.plot(range(1440), temperature[:1440])"
   ]
  },
  {
   "cell_type": "markdown",
   "id": "ed9aaba2-12bc-40b7-bfc2-f71eb5a8a289",
   "metadata": {},
   "source": [
    "The above plot shows a more narrow plot of the first 10 days of temperature data. Because the data is recorded every 10 minutes, you get 24 × 6 = 144 data points per day.\n",
    "\n",
    "On this plot, you can see daily periodicity, especially for the last 4 days. Also note that this 10-day period must be coming from a fairly cold winter month."
   ]
  },
  {
   "cell_type": "markdown",
   "id": "9b22e2c3-be17-4754-982d-80ac8a7dbc88",
   "metadata": {},
   "source": [
    "## Computing the number of samples we'll use for each data split"
   ]
  },
  {
   "cell_type": "markdown",
   "id": "922b6cba-de7e-4af1-acb1-a2a7cb68ba8e",
   "metadata": {},
   "source": [
    "We’ll use the first 50% of the data for training, the following 25% for validation, and the last 25% for testing"
   ]
  },
  {
   "cell_type": "code",
   "execution_count": 6,
   "id": "bd6cd723-4665-4be5-b330-791ddb169947",
   "metadata": {},
   "outputs": [
    {
     "name": "stdout",
     "output_type": "stream",
     "text": [
      "num_train_samples: 210225\n",
      "num_val_samples: 105112\n",
      "num_test_samples: 105114\n"
     ]
    }
   ],
   "source": [
    "num_train_samples = int(0.5 * len(raw_data))\n",
    "num_val_samples = int(0.25 * len(raw_data))\n",
    "num_test_samples = len(raw_data) - num_train_samples - num_val_samples\n",
    "print(\"num_train_samples:\", num_train_samples)\n",
    "print(\"num_val_samples:\", num_val_samples)\n",
    "print(\"num_test_samples:\", num_test_samples)"
   ]
  },
  {
   "cell_type": "markdown",
   "id": "c3d6fd55-e761-4d52-9ed8-61aafb52836c",
   "metadata": {},
   "source": [
    "# Preparing the data"
   ]
  },
  {
   "cell_type": "markdown",
   "id": "3db2f93a-97e5-4502-ba8c-e19b3c97ba87",
   "metadata": {},
   "source": [
    "## Normalizing the data"
   ]
  },
  {
   "cell_type": "code",
   "execution_count": 7,
   "id": "d65c49b6-530f-4a53-a4cb-0c6ba6870772",
   "metadata": {},
   "outputs": [],
   "source": [
    "mean = raw_data[:num_train_samples].mean(axis=0)\n",
    "raw_data -= mean\n",
    "std = raw_data[:num_train_samples].std(axis=0)\n",
    "raw_data /= std"
   ]
  },
  {
   "cell_type": "code",
   "execution_count": 8,
   "id": "666ee0df-3f23-46b3-9dac-59d766f4392c",
   "metadata": {},
   "outputs": [
    {
     "name": "stdout",
     "output_type": "stream",
     "text": [
      "[0, 1, 2] 3\n",
      "[1, 2, 3] 4\n",
      "[2, 3, 4] 5\n",
      "[3, 4, 5] 6\n",
      "[4, 5, 6] 7\n"
     ]
    }
   ],
   "source": [
    "import numpy as np\n",
    "from tensorflow import keras\n",
    "int_sequence = np.arange(10)\n",
    "dummy_dataset = keras.utils.timeseries_dataset_from_array(\n",
    "    data=int_sequence[:-3],\n",
    "    targets=int_sequence[3:],\n",
    "    sequence_length=3,\n",
    "    batch_size=2,\n",
    ")\n",
    "\n",
    "for inputs, targets in dummy_dataset:\n",
    "    for i in range(inputs.shape[0]):\n",
    "        print([int(x) for x in inputs[i]], int(targets[i]))"
   ]
  },
  {
   "cell_type": "markdown",
   "id": "283d8623-9778-4148-b301-edbdc78a0c5f",
   "metadata": {},
   "source": [
    "## Instantiating datasets for training, validation, and testing"
   ]
  },
  {
   "cell_type": "code",
   "execution_count": 9,
   "id": "e75773e4-e858-4826-8397-a48a143e09b9",
   "metadata": {},
   "outputs": [],
   "source": [
    "sampling_rate = 6\n",
    "sequence_length = 120\n",
    "delay = sampling_rate * (sequence_length + 24 - 1)\n",
    "batch_size = 256\n",
    "\n",
    "train_dataset = keras.utils.timeseries_dataset_from_array(\n",
    "    raw_data[:-delay],\n",
    "    targets=temperature[delay:],\n",
    "    sampling_rate=sampling_rate,\n",
    "    sequence_length=sequence_length,\n",
    "    shuffle=True,\n",
    "    batch_size=batch_size,\n",
    "    start_index=0,\n",
    "    end_index=num_train_samples)\n",
    "\n",
    "val_dataset = keras.utils.timeseries_dataset_from_array(\n",
    "    raw_data[:-delay],\n",
    "    targets=temperature[delay:],\n",
    "    sampling_rate=sampling_rate,\n",
    "    sequence_length=sequence_length,\n",
    "    shuffle=True,\n",
    "    batch_size=batch_size,\n",
    "    start_index=num_train_samples,\n",
    "    end_index=num_train_samples + num_val_samples)\n",
    "\n",
    "test_dataset = keras.utils.timeseries_dataset_from_array(\n",
    "    raw_data[:-delay],\n",
    "    targets=temperature[delay:],\n",
    "    sampling_rate=sampling_rate,\n",
    "    sequence_length=sequence_length,\n",
    "    shuffle=True,\n",
    "    batch_size=batch_size,\n",
    "    start_index=num_train_samples + num_val_samples)"
   ]
  },
  {
   "cell_type": "markdown",
   "id": "eba72595-45ff-442a-b91d-86166d70fe4b",
   "metadata": {},
   "source": [
    "## Inspecting the output of one of our datasets"
   ]
  },
  {
   "cell_type": "code",
   "execution_count": 10,
   "id": "7f1ee9be-76ba-4ffb-a359-1fd0f3d6faa0",
   "metadata": {},
   "outputs": [
    {
     "name": "stdout",
     "output_type": "stream",
     "text": [
      "samples shape: (256, 120, 14)\n",
      "targets shape: (256,)\n"
     ]
    }
   ],
   "source": [
    "for samples, targets in train_dataset:\n",
    "    print(\"samples shape:\", samples.shape)\n",
    "    print(\"targets shape:\", targets.shape)\n",
    "    break"
   ]
  },
  {
   "cell_type": "markdown",
   "id": "7523ce92-c5e7-4331-a54a-779ca213eb40",
   "metadata": {},
   "source": [
    "# A common-sense, non-machine-learning baseline"
   ]
  },
  {
   "cell_type": "markdown",
   "id": "9a9d63cc-377b-4966-827f-0c7a6da221d7",
   "metadata": {},
   "source": [
    "## Computing the common-sense baseline MAE"
   ]
  },
  {
   "cell_type": "code",
   "execution_count": 11,
   "id": "efb224c2-2385-49fb-976c-9124a7171c2a",
   "metadata": {},
   "outputs": [
    {
     "name": "stdout",
     "output_type": "stream",
     "text": [
      "Validation MAE: 2.44\n",
      "Test MAE: 2.62\n"
     ]
    }
   ],
   "source": [
    "def evaluate_naive_method(dataset):\n",
    "    total_abs_err = 0.\n",
    "    samples_seen = 0\n",
    "    for samples, targets in dataset:\n",
    "        preds = samples[:, -1, 1] * std[1] + mean[1]\n",
    "        total_abs_err += np.sum(np.abs(preds - targets))\n",
    "        samples_seen += samples.shape[0]\n",
    "    return total_abs_err / samples_seen\n",
    "\n",
    "print(f\"Validation MAE: {evaluate_naive_method(val_dataset):.2f}\")\n",
    "print(f\"Test MAE: {evaluate_naive_method(test_dataset):.2f}\")"
   ]
  },
  {
   "cell_type": "markdown",
   "id": "5580fecf-c398-476b-8eba-c61a0f9093ad",
   "metadata": {},
   "source": [
    "This common-sense baseline achieves a validation MAE of 2.44 degrees Celsius and a test MAE of 2.62 degrees Celsius. So if you always assume that the temperature 24 hours in the future will be the same as it is now, you will be off by two and a half degrees on average."
   ]
  },
  {
   "cell_type": "markdown",
   "id": "4c11c7c6-5e07-4d50-afe4-dd31d28d40ea",
   "metadata": {},
   "source": [
    "# Let’s try a basic machine learning model"
   ]
  },
  {
   "cell_type": "markdown",
   "id": "b1cabf9c-157c-485c-8449-7e0f495143b9",
   "metadata": {},
   "source": [
    "## Training and evaluating a densely connected model"
   ]
  },
  {
   "cell_type": "code",
   "execution_count": 13,
   "id": "aea7605d-79b7-467a-a684-27c8bbccda6b",
   "metadata": {},
   "outputs": [
    {
     "name": "stdout",
     "output_type": "stream",
     "text": [
      "Epoch 1/6\n",
      "819/819 [==============================] - 11s 12ms/step - loss: 13.0706 - mae: 2.7886 - val_loss: 15.2664 - val_mae: 3.1126\n",
      "Epoch 2/6\n",
      "819/819 [==============================] - 10s 12ms/step - loss: 9.1985 - mae: 2.3910 - val_loss: 11.5397 - val_mae: 2.6928\n",
      "Epoch 3/6\n",
      "819/819 [==============================] - 10s 12ms/step - loss: 8.4070 - mae: 2.2855 - val_loss: 13.0261 - val_mae: 2.8581\n",
      "Epoch 4/6\n",
      "819/819 [==============================] - 10s 12ms/step - loss: 7.9105 - mae: 2.2178 - val_loss: 11.6024 - val_mae: 2.6983\n",
      "Epoch 5/6\n",
      "819/819 [==============================] - 9s 11ms/step - loss: 7.5653 - mae: 2.1671 - val_loss: 11.4743 - val_mae: 2.6710\n",
      "Epoch 6/6\n",
      "819/819 [==============================] - 10s 12ms/step - loss: 7.2879 - mae: 2.1300 - val_loss: 12.1985 - val_mae: 2.7598\n",
      "405/405 [==============================] - 3s 6ms/step - loss: 12.4708 - mae: 2.7912\n",
      "Test MAE: 2.79\n"
     ]
    }
   ],
   "source": [
    "from tensorflow import keras\n",
    "from tensorflow.keras import layers\n",
    "\n",
    "inputs = keras.Input(shape=(sequence_length, raw_data.shape[-1]))\n",
    "x = layers.Flatten()(inputs)\n",
    "x = layers.Dense(16, activation=\"relu\")(x)\n",
    "outputs = layers.Dense(1)(x)\n",
    "model = keras.Model(inputs, outputs)\n",
    "\n",
    "callbacks = [\n",
    "    keras.callbacks.ModelCheckpoint(\"jena_dense.keras\",\n",
    "                                    save_best_only=True)\n",
    "]\n",
    "model.compile(optimizer=\"rmsprop\", loss=\"mse\", metrics=[\"mae\"])\n",
    "history = model.fit(train_dataset,\n",
    "                    epochs=6,\n",
    "                    validation_data=val_dataset,\n",
    "                    callbacks=callbacks)\n",
    "\n",
    "model = keras.models.load_model(\"jena_dense.keras\")\n",
    "print(f\"Test MAE: {model.evaluate(test_dataset)[1]:.2f}\")"
   ]
  },
  {
   "cell_type": "code",
   "execution_count": 14,
   "id": "e83f4502-231e-4061-a99a-0493890eb857",
   "metadata": {},
   "outputs": [
    {
     "data": {
      "image/png": "[encoded data removed]",
      "text/plain": [
       "<Figure size 432x288 with 1 Axes>"
      ]
     },
     "metadata": {
      "needs_background": "light"
     },
     "output_type": "display_data"
    }
   ],
   "source": [
    "import matplotlib.pyplot as plt\n",
    "loss = history.history[\"mae\"]\n",
    "val_loss = history.history[\"val_mae\"]\n",
    "\n",
    "epochs = range(1, len(loss) + 1)\n",
    "plt.figure()\n",
    "plt.plot(epochs, loss, color=\"grey\", linestyle=\"dashed\", label=\"Training MAE\")\n",
    "plt.plot(epochs,  val_loss, color=\"blue\",linestyle=\"dashed\", label=\"Validation MAE\")\n",
    "plt.title(\"Training and validation MAE\")\n",
    "plt.xlabel(\"Epochs\")\n",
    "plt.ylabel(\"MAE\")\n",
    "plt.legend()\n",
    "plt.show()"
   ]
  },
  {
   "cell_type": "markdown",
   "id": "e2119706-27be-418c-9b01-b38ab6e2fa3c",
   "metadata": {},
   "source": [
    "# Let's try a 1D convolutional model"
   ]
  },
  {
   "cell_type": "code",
   "execution_count": 15,
   "id": "a65090bf-f656-4e57-b23c-9f6024309794",
   "metadata": {},
   "outputs": [
    {
     "name": "stdout",
     "output_type": "stream",
     "text": [
      "Epoch 1/6\n",
      "819/819 [==============================] - 27s 32ms/step - loss: 24.3566 - mae: 3.8486 - val_loss: 19.6684 - val_mae: 3.4674\n",
      "Epoch 2/6\n",
      "819/819 [==============================] - 25s 30ms/step - loss: 19.2382 - mae: 3.4209 - val_loss: 17.6125 - val_mae: 3.2886\n",
      "Epoch 3/6\n",
      "819/819 [==============================] - 25s 31ms/step - loss: 17.7032 - mae: 3.2755 - val_loss: 16.5686 - val_mae: 3.1996\n",
      "Epoch 4/6\n",
      "819/819 [==============================] - 25s 30ms/step - loss: 16.6936 - mae: 3.1783 - val_loss: 16.8799 - val_mae: 3.2735\n",
      "Epoch 5/6\n",
      "819/819 [==============================] - 25s 30ms/step - loss: 15.9071 - mae: 3.1042 - val_loss: 16.9451 - val_mae: 3.2452\n",
      "Epoch 6/6\n",
      "819/819 [==============================] - 25s 30ms/step - loss: 15.2608 - mae: 3.0426 - val_loss: 19.4862 - val_mae: 3.5304\n",
      "405/405 [==============================] - 6s 13ms/step - loss: 18.5332 - mae: 3.3776\n",
      "Test MAE: 3.38\n"
     ]
    }
   ],
   "source": [
    "inputs = keras.Input(shape=(sequence_length, raw_data.shape[-1]))\n",
    "conv_x = layers.Conv1D(8, 24, activation=\"relu\")(inputs)\n",
    "conv_x = layers.MaxPooling1D(2)(conv_x)\n",
    "conv_x = layers.Conv1D(8, 12, activation=\"relu\")(conv_x)\n",
    "conv_x = layers.MaxPooling1D(2)(conv_x)\n",
    "conv_x = layers.Conv1D(8, 6, activation=\"relu\")(conv_x)\n",
    "conv_x = layers.GlobalAveragePooling1D()(conv_x)\n",
    "outputs = layers.Dense(1)(conv_x)\n",
    "model = keras.Model(inputs, outputs)\n",
    "\n",
    "callbacks = [\n",
    "    keras.callbacks.ModelCheckpoint(\"jena_conv.keras\",\n",
    "                                    save_best_only=True)\n",
    "]\n",
    "model.compile(optimizer=\"rmsprop\", loss=\"mse\", metrics=[\"mae\"])\n",
    "history = model.fit(train_dataset,\n",
    "                    epochs=6,\n",
    "                    validation_data=val_dataset,\n",
    "                    callbacks=callbacks)\n",
    "\n",
    "model = keras.models.load_model(\"jena_conv.keras\")\n",
    "print(f\"Test MAE: {model.evaluate(test_dataset)[1]:.2f}\")"
   ]
  },
  {
   "cell_type": "code",
   "execution_count": 16,
   "id": "f6e5f3c2-5374-4ab7-9ec4-1013778275ee",
   "metadata": {},
   "outputs": [
    {
     "data": {
      "image/png": "[encoded data removed]",
      "text/plain": [
       "<Figure size 432x288 with 1 Axes>"
      ]
     },
     "metadata": {
      "needs_background": "light"
     },
     "output_type": "display_data"
    }
   ],
   "source": [
    "import matplotlib.pyplot as plt\n",
    "loss = history.history[\"mae\"]\n",
    "val_loss = history.history[\"val_mae\"]\n",
    "\n",
    "epochs = range(1, len(loss) + 1)\n",
    "plt.figure()\n",
    "plt.plot(epochs, loss, color=\"grey\", linestyle=\"dashed\", label=\"Training MAE\")\n",
    "plt.plot(epochs,  val_loss, color=\"blue\",linestyle=\"dashed\", label=\"Validation MAE\")\n",
    "plt.title(\"Training and validation MAE\")\n",
    "plt.xlabel(\"Epochs\")\n",
    "plt.ylabel(\"MAE\")\n",
    "plt.legend()\n",
    "plt.show()"
   ]
  },
  {
   "cell_type": "markdown",
   "id": "9fe5e07f-b2d7-4181-b508-6453fcd3fba0",
   "metadata": {},
   "source": [
    "# A first recurrent baseline"
   ]
  },
  {
   "cell_type": "markdown",
   "id": "970d3073-ac96-4585-bb7b-6fcd893e9d49",
   "metadata": {},
   "source": [
    "### **A Simple LSTM-based model**"
   ]
  },
  {
   "cell_type": "code",
   "execution_count": 17,
   "id": "6eaca4f7-5a7c-4e18-9d2d-8f40c012dd0c",
   "metadata": {},
   "outputs": [
    {
     "name": "stdout",
     "output_type": "stream",
     "text": [
      "Epoch 1/5\n",
      "819/819 [==============================] - 44s 52ms/step - loss: 43.5079 - mae: 4.8080 - val_loss: 13.2252 - val_mae: 2.7573\n",
      "Epoch 2/5\n",
      "819/819 [==============================] - 41s 50ms/step - loss: 11.2894 - mae: 2.6120 - val_loss: 10.0303 - val_mae: 2.4670\n",
      "Epoch 3/5\n",
      "819/819 [==============================] - 41s 50ms/step - loss: 10.0625 - mae: 2.4782 - val_loss: 10.0924 - val_mae: 2.4643\n",
      "Epoch 4/5\n",
      "819/819 [==============================] - 39s 48ms/step - loss: 9.6097 - mae: 2.4191 - val_loss: 10.1117 - val_mae: 2.4640\n",
      "Epoch 5/5\n",
      "819/819 [==============================] - 41s 50ms/step - loss: 9.3113 - mae: 2.3794 - val_loss: 9.7542 - val_mae: 2.4370\n",
      "405/405 [==============================] - 6s 14ms/step - loss: 10.7985 - mae: 2.5619\n",
      "Test MAE: 2.56\n"
     ]
    }
   ],
   "source": [
    "inputs = keras.Input(shape=(sequence_length, raw_data.shape[-1]))\n",
    "x = layers.LSTM(16)(inputs)\n",
    "outputs = layers.Dense(1)(x)\n",
    "model = keras.Model(inputs, outputs)\n",
    "\n",
    "callbacks = [\n",
    "    keras.callbacks.ModelCheckpoint(\"jena_lstm.keras\",\n",
    "                                    save_best_only=True)\n",
    "]\n",
    "model.compile(optimizer=\"rmsprop\", loss=\"mse\", metrics=[\"mae\"])\n",
    "history = model.fit(train_dataset,\n",
    "                    epochs=5,\n",
    "                    validation_data=val_dataset,\n",
    "                    callbacks=callbacks)\n",
    "\n",
    "model = keras.models.load_model(\"jena_lstm.keras\")\n",
    "print(f\"Test MAE: {model.evaluate(test_dataset)[1]:.2f}\")"
   ]
  },
  {
   "cell_type": "code",
   "execution_count": 18,
   "id": "35571c95-3f61-450a-9d36-72134b0b1443",
   "metadata": {},
   "outputs": [
    {
     "data": {
      "image/png": "[encoded data removed]",
      "text/plain": [
       "<Figure size 432x288 with 1 Axes>"
      ]
     },
     "metadata": {
      "needs_background": "light"
     },
     "output_type": "display_data"
    }
   ],
   "source": [
    "import matplotlib.pyplot as plt\n",
    "loss = history.history[\"mae\"]\n",
    "val_loss = history.history[\"val_mae\"]\n",
    "\n",
    "epochs = range(1, len(loss) + 1)\n",
    "plt.figure()\n",
    "plt.plot(epochs, loss, color=\"grey\", linestyle=\"dashed\", label=\"Training MAE\")\n",
    "plt.plot(epochs,  val_loss, color=\"blue\",linestyle=\"dashed\", label=\"Validation MAE\")\n",
    "plt.title(\"Training and validation MAE\")\n",
    "plt.xlabel(\"Epochs\")\n",
    "plt.ylabel(\"MAE\")\n",
    "plt.legend()\n",
    "plt.show()"
   ]
  },
  {
   "cell_type": "markdown",
   "id": "66ee7bcd-73d7-43b3-a7e0-86a29caf2c8b",
   "metadata": {},
   "source": [
    "## Understanding recurrent neural networks"
   ]
  },
  {
   "cell_type": "markdown",
   "id": "6ef95fc4-71b8-46de-8649-e3ba41c087f7",
   "metadata": {},
   "source": [
    "**NumPy implementation of a simple RNN**"
   ]
  },
  {
   "cell_type": "code",
   "execution_count": 19,
   "id": "18dfadd1-12d0-443c-8b30-76aab3afd502",
   "metadata": {},
   "outputs": [],
   "source": [
    "import numpy as np\n",
    "timesteps = 100\n",
    "input_features = 32\n",
    "output_features = 64\n",
    "inputs = np.random.random((timesteps, input_features))\n",
    "state_t = np.zeros((output_features,))\n",
    "W = np.random.random((output_features, input_features))\n",
    "U = np.random.random((output_features, output_features))\n",
    "b = np.random.random((output_features,))\n",
    "successive_outputs = []\n",
    "for input_t in inputs:\n",
    "    output_t = np.tanh(np.dot(W, input_t) + np.dot(U, state_t) + b)\n",
    "    successive_outputs.append(output_t)\n",
    "    state_t = output_t\n",
    "final_output_sequence = np.stack(successive_outputs, axis=0)"
   ]
  },
  {
   "cell_type": "markdown",
   "id": "001c42f7-1359-4757-9561-e25c4f2d19ae",
   "metadata": {},
   "source": [
    "### A recurrent layer in Keras"
   ]
  },
  {
   "cell_type": "markdown",
   "id": "d717e4d5-88d3-46f9-ab50-80ebb3fcc1db",
   "metadata": {},
   "source": [
    "### **A Simple RNN-An RNN layer that can process sequences of any length**"
   ]
  },
  {
   "cell_type": "code",
   "execution_count": 20,
   "id": "d595ebd2-4e3d-432c-b11c-9a0a1544a030",
   "metadata": {
    "tags": []
   },
   "outputs": [
    {
     "name": "stdout",
     "output_type": "stream",
     "text": [
      "Epoch 1/5\n",
      "819/819 [==============================] - 17s 20ms/step - loss: 139.2875 - mae: 9.7205 - val_loss: 144.1719 - val_mae: 9.9208\n",
      "Epoch 2/5\n",
      "819/819 [==============================] - 17s 21ms/step - loss: 136.4977 - mae: 9.5704 - val_loss: 143.9748 - val_mae: 9.9002\n",
      "Epoch 3/5\n",
      "819/819 [==============================] - 16s 20ms/step - loss: 136.3154 - mae: 9.5517 - val_loss: 143.6643 - val_mae: 9.8651\n",
      "Epoch 4/5\n",
      "819/819 [==============================] - 17s 20ms/step - loss: 136.2293 - mae: 9.5421 - val_loss: 143.6054 - val_mae: 9.8572\n",
      "Epoch 5/5\n",
      "819/819 [==============================] - 14s 17ms/step - loss: 136.1984 - mae: 9.5411 - val_loss: 143.6215 - val_mae: 9.8602\n",
      "405/405 [==============================] - 4s 10ms/step - loss: 151.3978 - mae: 9.9300\n",
      "Test MAE: 9.93\n"
     ]
    }
   ],
   "source": [
    "num_features = 14\n",
    "inputs = keras.Input(shape=(None, num_features))\n",
    "outputs = layers.SimpleRNN(16)(inputs)\n",
    "model = keras.Model(inputs, outputs)\n",
    "\n",
    "callbacks = [\n",
    "    keras.callbacks.ModelCheckpoint(\"jena_SimRNN.keras\",\n",
    "                                    save_best_only=True)\n",
    "]\n",
    "model.compile(optimizer=\"rmsprop\", loss=\"mse\", metrics=[\"mae\"])\n",
    "history = model.fit(train_dataset,\n",
    "                    epochs=5,\n",
    "                    validation_data=val_dataset,\n",
    "                    callbacks=callbacks)\n",
    "\n",
    "model = keras.models.load_model(\"jena_SimRNN.keras\")\n",
    "print(f\"Test MAE: {model.evaluate(test_dataset)[1]:.2f}\")"
   ]
  },
  {
   "cell_type": "markdown",
   "id": "ee279693-14c4-46c3-bde7-b61e181d84bf",
   "metadata": {},
   "source": [
    "**An RNN layer that returns only its last output step**"
   ]
  },
  {
   "cell_type": "code",
   "execution_count": 21,
   "id": "113e3eed-f063-4787-98b4-bd3bb3a2ce37",
   "metadata": {},
   "outputs": [
    {
     "name": "stdout",
     "output_type": "stream",
     "text": [
      "(None, 16)\n"
     ]
    }
   ],
   "source": [
    "num_features = 14\n",
    "steps = 120\n",
    "inputs = keras.Input(shape=(steps, num_features))\n",
    "outputs = layers.SimpleRNN(16, return_sequences=False)(inputs)\n",
    "print(outputs.shape)"
   ]
  },
  {
   "cell_type": "markdown",
   "id": "e7b69831-5c59-49a4-b0ee-9dd8d735efa3",
   "metadata": {},
   "source": [
    "**An RNN layer that returns its full output sequence**"
   ]
  },
  {
   "cell_type": "code",
   "execution_count": 22,
   "id": "97d76d8a-b3ed-4b5c-834a-903d3175f85b",
   "metadata": {},
   "outputs": [
    {
     "name": "stdout",
     "output_type": "stream",
     "text": [
      "(None, 120, 16)\n"
     ]
    }
   ],
   "source": [
    "num_features = 14\n",
    "steps = 120\n",
    "inputs = keras.Input(shape=(steps, num_features))\n",
    "outputs = layers.SimpleRNN(16, return_sequences=True)(inputs)\n",
    "print(outputs.shape)"
   ]
  },
  {
   "cell_type": "markdown",
   "id": "8428f58a-03f2-42de-b9bc-4d0f900dc25c",
   "metadata": {},
   "source": [
    "### **Stacking RNN**"
   ]
  },
  {
   "cell_type": "code",
   "execution_count": 23,
   "id": "c80b89d5-8d1d-4fcc-bd8f-94e13769796e",
   "metadata": {},
   "outputs": [
    {
     "name": "stdout",
     "output_type": "stream",
     "text": [
      "Epoch 1/5\n",
      "819/819 [==============================] - 48s 57ms/step - loss: 137.0668 - mae: 9.5729 - val_loss: 143.4172 - val_mae: 9.8372\n",
      "Epoch 2/5\n",
      "819/819 [==============================] - 48s 59ms/step - loss: 135.9356 - mae: 9.5102 - val_loss: 143.3995 - val_mae: 9.8345\n",
      "Epoch 3/5\n",
      "819/819 [==============================] - 51s 62ms/step - loss: 135.9023 - mae: 9.5059 - val_loss: 143.4010 - val_mae: 9.8346\n",
      "Epoch 4/5\n",
      "819/819 [==============================] - 52s 63ms/step - loss: 135.8800 - mae: 9.5022 - val_loss: 143.4081 - val_mae: 9.8383\n",
      "Epoch 5/5\n",
      "819/819 [==============================] - 51s 63ms/step - loss: 135.8631 - mae: 9.4997 - val_loss: 143.3963 - val_mae: 9.8353\n",
      "405/405 [==============================] - 7s 17ms/step - loss: 151.1172 - mae: 9.9025\n",
      "Test MAE: 9.90\n"
     ]
    }
   ],
   "source": [
    "num_features = 14\n",
    "steps = 120\n",
    "inputs = keras.Input(shape=(steps, num_features))\n",
    "x = layers.SimpleRNN(16, return_sequences=True)(inputs)\n",
    "x = layers.SimpleRNN(16, return_sequences=True)(x)\n",
    "outputs = layers.SimpleRNN(16)(x)\n",
    "model = keras.Model(inputs, outputs)\n",
    "\n",
    "callbacks = [\n",
    "    keras.callbacks.ModelCheckpoint(\"jena_SRNN2.keras\",\n",
    "                                    save_best_only=True)\n",
    "]\n",
    "model.compile(optimizer=\"rmsprop\", loss=\"mse\", metrics=[\"mae\"])\n",
    "history = model.fit(train_dataset,\n",
    "                    epochs=5,\n",
    "                    validation_data=val_dataset,\n",
    "                    callbacks=callbacks)\n",
    "\n",
    "model = keras.models.load_model(\"jena_SRNN2.keras\")\n",
    "print(f\"Test MAE: {model.evaluate(test_dataset)[1]:.2f}\")\n"
   ]
  },
  {
   "cell_type": "markdown",
   "id": "5ae85f81-bde4-41bc-8506-cfa97010d7a6",
   "metadata": {},
   "source": [
    "### **A Simple GRU based model**"
   ]
  },
  {
   "cell_type": "code",
   "execution_count": 24,
   "id": "a0f12892-6e28-4ee2-934d-afdb6ce716fe",
   "metadata": {},
   "outputs": [
    {
     "name": "stdout",
     "output_type": "stream",
     "text": [
      "Epoch 1/5\n",
      "819/819 [==============================] - 40s 47ms/step - loss: 36.6066 - mae: 4.3483 - val_loss: 11.6421 - val_mae: 2.6040\n",
      "Epoch 2/5\n",
      "819/819 [==============================] - 37s 46ms/step - loss: 10.5993 - mae: 2.5410 - val_loss: 9.7816 - val_mae: 2.4302\n",
      "Epoch 3/5\n",
      "819/819 [==============================] - 36s 44ms/step - loss: 9.8407 - mae: 2.4550 - val_loss: 9.4237 - val_mae: 2.3745\n",
      "Epoch 4/5\n",
      "819/819 [==============================] - 36s 44ms/step - loss: 9.3421 - mae: 2.3904 - val_loss: 9.3914 - val_mae: 2.3648\n",
      "Epoch 5/5\n",
      "819/819 [==============================] - 36s 44ms/step - loss: 9.0893 - mae: 2.3559 - val_loss: 9.2441 - val_mae: 2.3562\n",
      "405/405 [==============================] - 5s 12ms/step - loss: 10.0974 - mae: 2.5106\n",
      "Test MAE: 2.51\n"
     ]
    }
   ],
   "source": [
    "inputs = keras.Input(shape=(sequence_length, raw_data.shape[-1]))\n",
    "x = layers.GRU(16)(inputs)\n",
    "outputs = layers.Dense(1)(x)\n",
    "model = keras.Model(inputs, outputs)\n",
    "\n",
    "callbacks = [\n",
    "    keras.callbacks.ModelCheckpoint(\"jena_gru.keras\",\n",
    "                                    save_best_only=True)\n",
    "]\n",
    "model.compile(optimizer=\"rmsprop\", loss=\"mse\", metrics=[\"mae\"])\n",
    "history = model.fit(train_dataset,\n",
    "                    epochs=5,\n",
    "                    validation_data=val_dataset,\n",
    "                    callbacks=callbacks)\n",
    "\n",
    "model = keras.models.load_model(\"jena_gru.keras\")\n",
    "print(f\"Test MAE: {model.evaluate(test_dataset)[1]:.2f}\")"
   ]
  },
  {
   "cell_type": "code",
   "execution_count": 25,
   "id": "e54e2367-f222-45dc-aa36-09c3d780fbbc",
   "metadata": {},
   "outputs": [
    {
     "data": {
      "image/png": "[encoded data removed]",
      "text/plain": [
       "<Figure size 432x288 with 1 Axes>"
      ]
     },
     "metadata": {
      "needs_background": "light"
     },
     "output_type": "display_data"
    }
   ],
   "source": [
    "import matplotlib.pyplot as plt\n",
    "loss = history.history[\"mae\"]\n",
    "val_loss = history.history[\"val_mae\"]\n",
    "\n",
    "epochs = range(1, len(loss) + 1)\n",
    "plt.figure()\n",
    "plt.plot(epochs, loss, color=\"grey\", linestyle=\"dashed\", label=\"Training MAE\")\n",
    "plt.plot(epochs,  val_loss, color=\"blue\",linestyle=\"dashed\", label=\"Validation MAE\")\n",
    "plt.title(\"Training and validation MAE\")\n",
    "plt.xlabel(\"Epochs\")\n",
    "plt.ylabel(\"MAE\")\n",
    "plt.legend()\n",
    "plt.show()"
   ]
  },
  {
   "cell_type": "markdown",
   "id": "742b85db-b658-4e15-8571-bf23652729a5",
   "metadata": {},
   "source": [
    "## Advanced use of recurrent neural networks"
   ]
  },
  {
   "cell_type": "markdown",
   "id": "e4c8163b-419e-474f-b90c-4addfc5fc41b",
   "metadata": {},
   "source": [
    "### **LSTM with dropout-Training and evaluating a dropout-regularized LSTM**"
   ]
  },
  {
   "cell_type": "code",
   "execution_count": 26,
   "id": "538737f1-7e77-404c-856e-b6a4aaed5b11",
   "metadata": {},
   "outputs": [
    {
     "name": "stdout",
     "output_type": "stream",
     "text": [
      "Epoch 1/5\n",
      "819/819 [==============================] - 71s 85ms/step - loss: 43.1632 - mae: 4.8929 - val_loss: 12.5449 - val_mae: 2.6944\n",
      "Epoch 2/5\n",
      "819/819 [==============================] - 72s 87ms/step - loss: 19.8413 - mae: 3.4183 - val_loss: 9.6953 - val_mae: 2.4316\n",
      "Epoch 3/5\n",
      "819/819 [==============================] - 70s 86ms/step - loss: 18.4511 - mae: 3.2992 - val_loss: 9.3354 - val_mae: 2.3953\n",
      "Epoch 4/5\n",
      "819/819 [==============================] - 71s 86ms/step - loss: 17.5304 - mae: 3.2212 - val_loss: 9.5845 - val_mae: 2.4330\n",
      "Epoch 5/5\n",
      "819/819 [==============================] - 72s 88ms/step - loss: 16.9479 - mae: 3.1688 - val_loss: 9.3705 - val_mae: 2.3946\n",
      "405/405 [==============================] - 5s 12ms/step - loss: 10.7198 - mae: 2.5645\n",
      "Test MAE: 2.56\n"
     ]
    }
   ],
   "source": [
    "inputs = keras.Input(shape=(sequence_length, raw_data.shape[-1]))\n",
    "lstm_x = layers.LSTM(16, recurrent_dropout=0.25)(inputs)\n",
    "lstm_x = layers.Dropout(0.5)(lstm_x)\n",
    "outputs = layers.Dense(1)(lstm_x)\n",
    "model = keras.Model(inputs, outputs)\n",
    "\n",
    "callbacks = [\n",
    "    keras.callbacks.ModelCheckpoint(\"jena_lstm_dropout.keras\",\n",
    "                                    save_best_only=True)\n",
    "]\n",
    "model.compile(optimizer=\"rmsprop\", loss=\"mse\", metrics=[\"mae\"])\n",
    "history = model.fit(train_dataset,\n",
    "                    epochs=5,\n",
    "                    validation_data=val_dataset,\n",
    "                    callbacks=callbacks)\n",
    "\n",
    "model = keras.models.load_model(\"jena_lstm_dropout.keras\")\n",
    "print(f\"Test MAE: {model.evaluate(test_dataset)[1]:.2f}\")"
   ]
  },
  {
   "cell_type": "code",
   "execution_count": 27,
   "id": "8222b22a-ee3c-443d-98d3-223dae80f8f9",
   "metadata": {},
   "outputs": [
    {
     "data": {
      "image/png": "[encoded data removed]",
      "text/plain": [
       "<Figure size 432x288 with 1 Axes>"
      ]
     },
     "metadata": {
      "needs_background": "light"
     },
     "output_type": "display_data"
    }
   ],
   "source": [
    "import matplotlib.pyplot as plt\n",
    "loss = history.history[\"mae\"]\n",
    "val_loss = history.history[\"val_mae\"]\n",
    "\n",
    "epochs = range(1, len(loss) + 1)\n",
    "plt.figure()\n",
    "plt.plot(epochs, loss, color=\"grey\", linestyle=\"dashed\", label=\"Training MAE\")\n",
    "plt.plot(epochs,  val_loss, color=\"blue\",linestyle=\"dashed\", label=\"Validation MAE\")\n",
    "plt.title(\"Training and validation MAE\")\n",
    "plt.xlabel(\"Epochs\")\n",
    "plt.ylabel(\"MAE\")\n",
    "plt.legend()\n",
    "plt.show()"
   ]
  },
  {
   "cell_type": "markdown",
   "id": "edb93e7e-2a3b-4bde-8f1d-bfc7c0fba2e8",
   "metadata": {},
   "source": [
    "### Stacking recurrent layers"
   ]
  },
  {
   "cell_type": "markdown",
   "id": "e8d0089f-ce6a-40eb-afac-67a48ee0e2c6",
   "metadata": {},
   "source": [
    "### **Training and evaluating a dropout-regularized, stacked GRU model**"
   ]
  },
  {
   "cell_type": "code",
   "execution_count": 23,
   "id": "7449344e-ad64-4670-8946-fc61dc22534c",
   "metadata": {},
   "outputs": [
    {
     "name": "stdout",
     "output_type": "stream",
     "text": [
      "Epoch 1/5\n",
      "819/819 [==============================] - 131s 155ms/step - loss: 24.6346 - mae: 3.6663 - val_loss: 9.7526 - val_mae: 2.4264\n",
      "Epoch 2/5\n",
      "819/819 [==============================] - 126s 154ms/step - loss: 13.9360 - mae: 2.8949 - val_loss: 8.8724 - val_mae: 2.3060\n",
      "Epoch 3/5\n",
      "819/819 [==============================] - 125s 153ms/step - loss: 13.2612 - mae: 2.8236 - val_loss: 9.2640 - val_mae: 2.3649\n",
      "Epoch 4/5\n",
      "819/819 [==============================] - 126s 154ms/step - loss: 12.7190 - mae: 2.7630 - val_loss: 9.3212 - val_mae: 2.3750\n",
      "Epoch 5/5\n",
      "819/819 [==============================] - 126s 154ms/step - loss: 12.2128 - mae: 2.7135 - val_loss: 8.9050 - val_mae: 2.3089\n",
      "405/405 [==============================] - 12s 28ms/step - loss: 9.9652 - mae: 2.4606\n",
      "Test MAE: 2.46\n"
     ]
    }
   ],
   "source": [
    "inputs = keras.Input(shape=(sequence_length, raw_data.shape[-1]))\n",
    "x = layers.GRU(32, recurrent_dropout=0.5, return_sequences=True)(inputs)\n",
    "x = layers.GRU(32, recurrent_dropout=0.5)(x)\n",
    "x = layers.Dropout(0.5)(x)\n",
    "outputs = layers.Dense(1)(x)\n",
    "model = keras.Model(inputs, outputs)\n",
    "\n",
    "callbacks = [\n",
    "    keras.callbacks.ModelCheckpoint(\"jena_stacked_gru_dropout.keras\",\n",
    "                                    save_best_only=True)\n",
    "]\n",
    "model.compile(optimizer=\"rmsprop\", loss=\"mse\", metrics=[\"mae\"])\n",
    "history = model.fit(train_dataset,\n",
    "                    epochs=5,\n",
    "                    validation_data=val_dataset,\n",
    "                    callbacks=callbacks)\n",
    "model = keras.models.load_model(\"jena_stacked_gru_dropout.keras\")\n",
    "print(f\"Test MAE: {model.evaluate(test_dataset)[1]:.2f}\")"
   ]
  },
  {
   "cell_type": "markdown",
   "id": "53226c1d-5f13-4b9b-84d1-d1af2bafcadd",
   "metadata": {},
   "source": [
    "## **Q1. Adjusting the number of units in each recurrent layer in the stacked setup and**\n",
    "## **Q2. Using layer_lstm() instead of layer_gru().**"
   ]
  },
  {
   "cell_type": "markdown",
   "id": "d8e10474-322d-4c0d-9baa-3a25866a8f16",
   "metadata": {},
   "source": [
    "### **LSTM regularized and stacked with 8 units**"
   ]
  },
  {
   "cell_type": "code",
   "execution_count": 29,
   "id": "4a4bf2e9-f07d-4713-aae6-bfc9b27ebcc1",
   "metadata": {},
   "outputs": [
    {
     "name": "stdout",
     "output_type": "stream",
     "text": [
      "Epoch 1/5\n",
      "819/819 [==============================] - 57s 67ms/step - loss: 78.6454 - mae: 6.8499 - val_loss: 39.6179 - val_mae: 4.7317\n",
      "Epoch 2/5\n",
      "819/819 [==============================] - 59s 72ms/step - loss: 32.7582 - mae: 4.2663 - val_loss: 14.8815 - val_mae: 2.8908\n",
      "Epoch 3/5\n",
      "819/819 [==============================] - 63s 77ms/step - loss: 24.0208 - mae: 3.7015 - val_loss: 11.2417 - val_mae: 2.5794\n",
      "Epoch 4/5\n",
      "819/819 [==============================] - 58s 71ms/step - loss: 22.1100 - mae: 3.5597 - val_loss: 10.8466 - val_mae: 2.5419\n",
      "Epoch 5/5\n",
      "819/819 [==============================] - 52s 63ms/step - loss: 21.0027 - mae: 3.4750 - val_loss: 10.0953 - val_mae: 2.4606\n",
      "405/405 [==============================] - 8s 18ms/step - loss: 11.9554 - mae: 2.6696\n",
      "Test MAE: 2.67\n"
     ]
    }
   ],
   "source": [
    "inputs = keras.Input(shape=(sequence_length, raw_data.shape[-1]))\n",
    "x = layers.LSTM(8, return_sequences=True)(inputs)\n",
    "x = layers.LSTM(8)(x)\n",
    "x = layers.Dropout(0.5)(x)\n",
    "outputs = layers.Dense(1)(x)\n",
    "model = keras.Model(inputs, outputs)\n",
    "\n",
    "callbacks = [\n",
    "    keras.callbacks.ModelCheckpoint(\"jena_LSTM_stacked8.keras\",\n",
    "                                    save_best_only=True)\n",
    "]\n",
    "model.compile(optimizer=\"rmsprop\", loss=\"mse\", metrics=[\"mae\"])\n",
    "history = model.fit(train_dataset,\n",
    "                    epochs=5,\n",
    "                    validation_data=val_dataset,\n",
    "                    callbacks=callbacks)\n",
    "model = keras.models.load_model(\"jena_LSTM_stacked8.keras\")\n",
    "print(f\"Test MAE: {model.evaluate(test_dataset)[1]:.2f}\")"
   ]
  },
  {
   "cell_type": "code",
   "execution_count": 30,
   "id": "91918291-d3fc-4853-8d10-55021f37bd15",
   "metadata": {},
   "outputs": [
    {
     "data": {
      "image/png": "[encoded data removed]",
      "text/plain": [
       "<Figure size 432x288 with 1 Axes>"
      ]
     },
     "metadata": {
      "needs_background": "light"
     },
     "output_type": "display_data"
    }
   ],
   "source": [
    "import matplotlib.pyplot as plt\n",
    "loss = history.history[\"mae\"]\n",
    "val_loss = history.history[\"val_mae\"]\n",
    "\n",
    "epochs = range(1, len(loss) + 1)\n",
    "plt.figure()\n",
    "plt.plot(epochs, loss, color=\"grey\", linestyle=\"dashed\", label=\"Training MAE\")\n",
    "plt.plot(epochs,  val_loss, color=\"blue\",linestyle=\"dashed\", label=\"Validation MAE\")\n",
    "plt.title(\"Training and validation MAE\")\n",
    "plt.xlabel(\"Epochs\")\n",
    "plt.ylabel(\"MAE\")\n",
    "plt.legend()\n",
    "plt.show()"
   ]
  },
  {
   "cell_type": "markdown",
   "id": "bfac2b41-538d-41b9-99be-1b050f6b8720",
   "metadata": {},
   "source": [
    "### **LSTM regularized and stacked with 16 units**"
   ]
  },
  {
   "cell_type": "code",
   "execution_count": 31,
   "id": "b6eb9deb-92bf-4825-93e5-88997d95133c",
   "metadata": {},
   "outputs": [
    {
     "name": "stdout",
     "output_type": "stream",
     "text": [
      "Epoch 1/5\n",
      "819/819 [==============================] - 71s 84ms/step - loss: 46.9006 - mae: 5.0834 - val_loss: 14.0608 - val_mae: 2.8341\n",
      "Epoch 2/5\n",
      "819/819 [==============================] - 70s 85ms/step - loss: 18.3570 - mae: 3.2772 - val_loss: 9.9032 - val_mae: 2.4549\n",
      "Epoch 3/5\n",
      "819/819 [==============================] - 67s 81ms/step - loss: 16.6160 - mae: 3.1191 - val_loss: 9.7728 - val_mae: 2.4439\n",
      "Epoch 4/5\n",
      "819/819 [==============================] - 71s 86ms/step - loss: 15.5341 - mae: 3.0171 - val_loss: 10.1097 - val_mae: 2.4829\n",
      "Epoch 5/5\n",
      "819/819 [==============================] - 70s 86ms/step - loss: 14.6643 - mae: 2.9324 - val_loss: 10.1743 - val_mae: 2.4735\n",
      "405/405 [==============================] - 11s 25ms/step - loss: 11.1538 - mae: 2.6095\n",
      "Test MAE: 2.61\n"
     ]
    }
   ],
   "source": [
    "inputs = keras.Input(shape=(sequence_length, raw_data.shape[-1]))\n",
    "x = layers.LSTM(16, return_sequences=True)(inputs)\n",
    "x = layers.LSTM(16)(x)\n",
    "x = layers.Dropout(0.5)(x)\n",
    "outputs = layers.Dense(1)(x)\n",
    "model = keras.Model(inputs, outputs)\n",
    "\n",
    "callbacks = [\n",
    "    keras.callbacks.ModelCheckpoint(\"jena_LSTM_stacked16.keras\",\n",
    "                                    save_best_only=True)\n",
    "]\n",
    "model.compile(optimizer=\"rmsprop\", loss=\"mse\", metrics=[\"mae\"])\n",
    "history = model.fit(train_dataset,\n",
    "                    epochs=5,\n",
    "                    validation_data=val_dataset,\n",
    "                    callbacks=callbacks)\n",
    "model = keras.models.load_model(\"jena_LSTM_stacked16.keras\")\n",
    "print(f\"Test MAE: {model.evaluate(test_dataset)[1]:.2f}\")"
   ]
  },
  {
   "cell_type": "code",
   "execution_count": 32,
   "id": "536e9ff5-0cd8-4d99-9cb9-fb4ca6bb3392",
   "metadata": {},
   "outputs": [
    {
     "data": {
      "image/png": "[encoded data removed]",
      "text/plain": [
       "<Figure size 432x288 with 1 Axes>"
      ]
     },
     "metadata": {
      "needs_background": "light"
     },
     "output_type": "display_data"
    }
   ],
   "source": [
    "import matplotlib.pyplot as plt\n",
    "loss = history.history[\"mae\"]\n",
    "val_loss = history.history[\"val_mae\"]\n",
    "\n",
    "epochs = range(1, len(loss) + 1)\n",
    "plt.figure()\n",
    "plt.plot(epochs, loss, color=\"grey\", linestyle=\"dashed\", label=\"Training MAE\")\n",
    "plt.plot(epochs,  val_loss, color=\"blue\",linestyle=\"dashed\", label=\"Validation MAE\")\n",
    "plt.title(\"Training and validation MAE\")\n",
    "plt.xlabel(\"Epochs\")\n",
    "plt.ylabel(\"MAE\")\n",
    "plt.legend()\n",
    "plt.show()"
   ]
  },
  {
   "cell_type": "markdown",
   "id": "c05d41ab-a494-41b6-ab96-74ad22dc4bde",
   "metadata": {},
   "source": [
    "### **LSTM regularized and stacked with 32 units**"
   ]
  },
  {
   "cell_type": "code",
   "execution_count": 33,
   "id": "9dfdd517-e931-402a-9794-efc1ae241444",
   "metadata": {},
   "outputs": [
    {
     "name": "stdout",
     "output_type": "stream",
     "text": [
      "Epoch 1/5\n",
      "819/819 [==============================] - 101s 120ms/step - loss: 27.0678 - mae: 3.8075 - val_loss: 10.1141 - val_mae: 2.4984\n",
      "Epoch 2/5\n",
      "819/819 [==============================] - 102s 124ms/step - loss: 12.8951 - mae: 2.7747 - val_loss: 10.6042 - val_mae: 2.5319\n",
      "Epoch 3/5\n",
      "819/819 [==============================] - 105s 129ms/step - loss: 11.4502 - mae: 2.6168 - val_loss: 9.5854 - val_mae: 2.4292\n",
      "Epoch 4/5\n",
      "819/819 [==============================] - 107s 131ms/step - loss: 10.4813 - mae: 2.4968 - val_loss: 10.7430 - val_mae: 2.5544\n",
      "Epoch 5/5\n",
      "819/819 [==============================] - 105s 128ms/step - loss: 9.5465 - mae: 2.3758 - val_loss: 11.0239 - val_mae: 2.5995\n",
      "405/405 [==============================] - 17s 41ms/step - loss: 10.8330 - mae: 2.5987\n",
      "Test MAE: 2.60\n"
     ]
    }
   ],
   "source": [
    "inputs = keras.Input(shape=(sequence_length, raw_data.shape[-1]))\n",
    "x = layers.LSTM(32, return_sequences=True)(inputs)\n",
    "x = layers.LSTM(32)(x)\n",
    "x = layers.Dropout(0.5)(x)\n",
    "outputs = layers.Dense(1)(x)\n",
    "model = keras.Model(inputs, outputs)\n",
    "\n",
    "callbacks = [\n",
    "    keras.callbacks.ModelCheckpoint(\"jena_LSTM_stacked32.keras\",\n",
    "                                    save_best_only=True)\n",
    "]\n",
    "model.compile(optimizer=\"rmsprop\", loss=\"mse\", metrics=[\"mae\"])\n",
    "history = model.fit(train_dataset,\n",
    "                    epochs=5,\n",
    "                    validation_data=val_dataset,\n",
    "                    callbacks=callbacks)\n",
    "model = keras.models.load_model(\"jena_LSTM_stacked32.keras\")\n",
    "print(f\"Test MAE: {model.evaluate(test_dataset)[1]:.2f}\")"
   ]
  },
  {
   "cell_type": "code",
   "execution_count": 34,
   "id": "08db37ec-c3f7-406d-a338-15605c5ae891",
   "metadata": {},
   "outputs": [
    {
     "data": {
      "image/png": "[encoded data removed]",
      "text/plain": [
       "<Figure size 432x288 with 1 Axes>"
      ]
     },
     "metadata": {
      "needs_background": "light"
     },
     "output_type": "display_data"
    }
   ],
   "source": [
    "import matplotlib.pyplot as plt\n",
    "loss = history.history[\"mae\"]\n",
    "val_loss = history.history[\"val_mae\"]\n",
    "\n",
    "epochs = range(1, len(loss) + 1)\n",
    "plt.figure()\n",
    "plt.plot(epochs, loss, color=\"grey\", linestyle=\"dashed\", label=\"Training MAE\")\n",
    "plt.plot(epochs,  val_loss, color=\"blue\",linestyle=\"dashed\", label=\"Validation MAE\")\n",
    "plt.title(\"Training and validation MAE\")\n",
    "plt.xlabel(\"Epochs\")\n",
    "plt.ylabel(\"MAE\")\n",
    "plt.legend()\n",
    "plt.show()"
   ]
  },
  {
   "cell_type": "markdown",
   "id": "3a60d1c1-314b-48d0-acaa-d310c7f1a00b",
   "metadata": {},
   "source": [
    "### **LSTM regularized and stacked with 64 units**"
   ]
  },
  {
   "cell_type": "code",
   "execution_count": 35,
   "id": "749f1992-fba0-4842-9f9b-3f18f6f1272a",
   "metadata": {},
   "outputs": [
    {
     "name": "stdout",
     "output_type": "stream",
     "text": [
      "Epoch 1/5\n",
      "819/819 [==============================] - 189s 228ms/step - loss: 15.9366 - mae: 2.9949 - val_loss: 10.3088 - val_mae: 2.5131\n",
      "Epoch 2/5\n",
      "819/819 [==============================] - 187s 228ms/step - loss: 8.6639 - mae: 2.2723 - val_loss: 11.7026 - val_mae: 2.6764\n",
      "Epoch 3/5\n",
      "819/819 [==============================] - 187s 228ms/step - loss: 6.6745 - mae: 1.9774 - val_loss: 12.0484 - val_mae: 2.7218\n",
      "Epoch 4/5\n",
      "819/819 [==============================] - 186s 227ms/step - loss: 5.5981 - mae: 1.8018 - val_loss: 12.1888 - val_mae: 2.7467\n",
      "Epoch 5/5\n",
      "819/819 [==============================] - 186s 227ms/step - loss: 4.9108 - mae: 1.6769 - val_loss: 13.4017 - val_mae: 2.8765\n",
      "405/405 [==============================] - 36s 87ms/step - loss: 11.5013 - mae: 2.6824\n",
      "Test MAE: 2.68\n"
     ]
    }
   ],
   "source": [
    "inputs = keras.Input(shape=(sequence_length, raw_data.shape[-1]))\n",
    "x = layers.LSTM(64, return_sequences=True)(inputs)\n",
    "x = layers.LSTM(64)(x)\n",
    "x = layers.Dropout(0.5)(x)\n",
    "outputs = layers.Dense(1)(x)\n",
    "model = keras.Model(inputs, outputs)\n",
    "\n",
    "callbacks = [\n",
    "    keras.callbacks.ModelCheckpoint(\"jena_LSTM_stacked64.keras\",\n",
    "                                    save_best_only=True)\n",
    "]\n",
    "model.compile(optimizer=\"rmsprop\", loss=\"mse\", metrics=[\"mae\"])\n",
    "history = model.fit(train_dataset,\n",
    "                    epochs=5,\n",
    "                    validation_data=val_dataset,\n",
    "                    callbacks=callbacks)\n",
    "model = keras.models.load_model(\"jena_LSTM_stacked64.keras\")\n",
    "print(f\"Test MAE: {model.evaluate(test_dataset)[1]:.2f}\")"
   ]
  },
  {
   "cell_type": "code",
   "execution_count": 36,
   "id": "da48def4-4030-4077-a059-373c5c010790",
   "metadata": {},
   "outputs": [
    {
     "data": {
      "image/png": "[encoded data removed]",
      "text/plain": [
       "<Figure size 432x288 with 1 Axes>"
      ]
     },
     "metadata": {
      "needs_background": "light"
     },
     "output_type": "display_data"
    }
   ],
   "source": [
    "import matplotlib.pyplot as plt\n",
    "loss = history.history[\"mae\"]\n",
    "val_loss = history.history[\"val_mae\"]\n",
    "\n",
    "epochs = range(1, len(loss) + 1)\n",
    "plt.figure()\n",
    "plt.plot(epochs, loss, color=\"grey\", linestyle=\"dashed\", label=\"Training MAE\")\n",
    "plt.plot(epochs,  val_loss, color=\"blue\",linestyle=\"dashed\", label=\"Validation MAE\")\n",
    "plt.title(\"Training and validation MAE\")\n",
    "plt.xlabel(\"Epochs\")\n",
    "plt.ylabel(\"MAE\")\n",
    "plt.legend()\n",
    "plt.show()"
   ]
  },
  {
   "cell_type": "markdown",
   "id": "cf56108c-5ff9-438d-8511-62b7db8de300",
   "metadata": {},
   "source": [
    "## **Using bidirectional RNNs**"
   ]
  },
  {
   "cell_type": "markdown",
   "id": "1a102a9c-930e-458d-83cb-ee0f1aafd8f4",
   "metadata": {},
   "source": [
    "### **Training and evaluating a bidirectional LSTM**"
   ]
  },
  {
   "cell_type": "code",
   "execution_count": 37,
   "id": "198f13d3-de6c-4ebe-976e-499d38f61fa5",
   "metadata": {},
   "outputs": [
    {
     "name": "stdout",
     "output_type": "stream",
     "text": [
      "Epoch 1/5\n",
      "819/819 [==============================] - 48s 55ms/step - loss: 26.3816 - mae: 3.6814 - val_loss: 10.7920 - val_mae: 2.5518\n",
      "Epoch 2/5\n",
      "819/819 [==============================] - 43s 53ms/step - loss: 9.4517 - mae: 2.4007 - val_loss: 10.3747 - val_mae: 2.4913\n",
      "Epoch 3/5\n",
      "819/819 [==============================] - 47s 57ms/step - loss: 8.5156 - mae: 2.2785 - val_loss: 10.2107 - val_mae: 2.4629\n",
      "Epoch 4/5\n",
      "819/819 [==============================] - 47s 57ms/step - loss: 7.9579 - mae: 2.2055 - val_loss: 10.3143 - val_mae: 2.4894\n",
      "Epoch 5/5\n",
      "819/819 [==============================] - 46s 56ms/step - loss: 7.5734 - mae: 2.1542 - val_loss: 10.5074 - val_mae: 2.5028\n",
      "405/405 [==============================] - 7s 17ms/step - loss: 11.1188 - mae: 2.6088\n",
      "Test MAE: 2.61\n"
     ]
    }
   ],
   "source": [
    "inputs = keras.Input(shape=(sequence_length, raw_data.shape[-1]))\n",
    "x = layers.Bidirectional(layers.LSTM(16))(inputs)\n",
    "outputs = layers.Dense(1)(x)\n",
    "model = keras.Model(inputs, outputs)\n",
    "\n",
    "model.compile(optimizer=\"rmsprop\", loss=\"mse\", metrics=[\"mae\"])\n",
    "history = model.fit(train_dataset,\n",
    "                    epochs=5,\n",
    "                    validation_data=val_dataset)\n",
    "test_mae = model.evaluate(test_dataset)[1]\n",
    "print(f\"Test MAE: {test_mae:.2f}\")"
   ]
  },
  {
   "cell_type": "markdown",
   "id": "73fae5ad-e832-4846-93dd-7034c50fb6aa",
   "metadata": {},
   "source": [
    "### **3. Using a combination of 1d_convnets and RNN**"
   ]
  },
  {
   "cell_type": "markdown",
   "id": "2b8fb186-6a12-403b-9c6b-437c7dbd92b4",
   "metadata": {},
   "source": [
    "### **Combination of 1D Convent and dropout-regularized LSTM**"
   ]
  },
  {
   "cell_type": "code",
   "execution_count": 15,
   "id": "c4074899-5eaa-4c6c-a6c2-445fd13dba5a",
   "metadata": {},
   "outputs": [
    {
     "name": "stdout",
     "output_type": "stream",
     "text": [
      "Epoch 1/5\n",
      "819/819 [==============================] - 43s 50ms/step - loss: 51.0346 - mae: 5.3494 - val_loss: 27.1750 - val_mae: 4.0783\n",
      "Epoch 2/5\n",
      "819/819 [==============================] - 39s 48ms/step - loss: 17.5881 - mae: 3.2329 - val_loss: 24.4735 - val_mae: 3.8527\n",
      "Epoch 3/5\n",
      "819/819 [==============================] - 40s 48ms/step - loss: 14.2639 - mae: 2.9272 - val_loss: 21.1236 - val_mae: 3.6102\n",
      "Epoch 4/5\n",
      "819/819 [==============================] - 39s 48ms/step - loss: 12.5602 - mae: 2.7452 - val_loss: 23.6822 - val_mae: 3.8636\n",
      "Epoch 5/5\n",
      "819/819 [==============================] - 40s 48ms/step - loss: 11.4271 - mae: 2.6131 - val_loss: 23.7054 - val_mae: 3.8934\n",
      "405/405 [==============================] - 7s 16ms/step - loss: 23.3931 - mae: 3.8283\n",
      "Test MAE: 3.83\n"
     ]
    }
   ],
   "source": [
    "inputs = keras.Input(shape=(sequence_length, raw_data.shape[-1]))\n",
    "x = layers.Conv1D(64, 3, activation='relu')(inputs)\n",
    "x = layers.MaxPooling1D(3)(x)\n",
    "x = layers.Conv1D(128, 3, activation='relu')(x)\n",
    "x = layers.GlobalMaxPooling1D()(x)\n",
    "x = layers.Reshape((-1, 128))(x)  # Reshape the data to be 3D\n",
    "x = layers.LSTM(16)(x)\n",
    "outputs = layers.Dense(1)(x)\n",
    "model = keras.Model(inputs, outputs)\n",
    "\n",
    "model.compile(optimizer=\"rmsprop\", loss=\"mse\", metrics=[\"mae\"])\n",
    "\n",
    "callbacks = [\n",
    "    keras.callbacks.ModelCheckpoint(\"jena_Conv_LSTM.keras\", save_best_only=True)\n",
    "]\n",
    "\n",
    "history = model.fit(train_dataset, epochs=5, validation_data=val_dataset, callbacks=callbacks)\n",
    "\n",
    "model = keras.models.load_model(\"jena_Conv_LSTM.keras\")\n",
    "print(f\"Test MAE: {model.evaluate(test_dataset)[1]:.2f}\")"
   ]
  },
  {
   "cell_type": "code",
   "execution_count": 16,
   "id": "faf2264b-cef5-41d7-b51a-e84f7ceaffac",
   "metadata": {},
   "outputs": [
    {
     "data": {
      "image/png": "[encoded data removed]",
      "text/plain": [
       "<Figure size 432x288 with 1 Axes>"
      ]
     },
     "metadata": {
      "needs_background": "light"
     },
     "output_type": "display_data"
    }
   ],
   "source": [
    "import matplotlib.pyplot as plt\n",
    "loss = history.history[\"mae\"]\n",
    "val_loss = history.history[\"val_mae\"]\n",
    "\n",
    "epochs = range(1, len(loss) + 1)\n",
    "plt.figure()\n",
    "plt.plot(epochs, loss, color=\"grey\", linestyle=\"dashed\", label=\"Training MAE\")\n",
    "plt.plot(epochs,  val_loss, color=\"blue\",linestyle=\"dashed\", label=\"Validation MAE\")\n",
    "plt.title(\"Training and validation MAE\")\n",
    "plt.xlabel(\"Epochs\")\n",
    "plt.ylabel(\"MAE\")\n",
    "plt.legend()\n",
    "plt.show()"
   ]
  },
  {
   "cell_type": "markdown",
   "id": "8e36335d-49c8-418e-aefa-2831d6419b73",
   "metadata": {},
   "source": [
    "### **MODELS:**\n",
    "\n",
    "1.Baseline\n",
    "\n",
    "2.Basic machine learning model\n",
    "\n",
    "3.1D convolution\n",
    "\n",
    "4.Simple LSTM\n",
    "\n",
    "5.Simple RNN\n",
    "\n",
    "6.Stacked RNN\n",
    "\n",
    "7.Simple GRU\n",
    "\n",
    "8.LSTM with dropout\n",
    "\n",
    "9.Stacked GRU with dropout\n",
    "\n",
    "10.LSTM dropout\n",
    "\n",
    "11.LSTM dropout\n",
    "\n",
    "12.LSTM dropout\n",
    "\n",
    "13.LSTM dropout\n",
    "\n",
    "14.Bidirectional RNN\n",
    "\n",
    "15.1D convolution and LSTM with dropout"
   ]
  },
  {
   "cell_type": "code",
   "execution_count": 21,
   "id": "6fe27592-7c4e-40a3-a3fa-36c9bfed2d84",
   "metadata": {},
   "outputs": [
    {
     "data": {
      "image/png": "[encoded data removed]",
      "text/plain": [
       "<Figure size 432x288 with 1 Axes>"
      ]
     },
     "metadata": {
      "needs_background": "light"
     },
     "output_type": "display_data"
    }
   ],
   "source": [
    "Models = (\"1\",\"2\",\"3\",\"4\",\"5\",\"6\",\"7\",\"8\",\"9\",\"10\",\"11\",\"12\",\"13\",\"14\",\"15\")\n",
    "Mae = (2.62,2.79,3.38,2.56,9.93,9.90,2.51,2.56,2.44,2.67,2.61,2.60,2.68,2.61,3.83)\n",
    "\n",
    "# MAE Evaluation\n",
    "plt.scatter(Models, Mae, color=\"blue\")\n",
    "plt.title(\"MAE Evaluation\")\n",
    "plt.xlabel(\"Model Number\")\n",
    "plt.ylabel(\"MAE\")\n",
    "\n",
    "for (xi, yi) in zip(Models,Mae):\n",
    "    plt.text(xi, yi, yi, va='bottom', ha='center')\n",
    "\n",
    "plt.show()"
   ]
  },
  {
   "cell_type": "markdown",
   "id": "ce159743-4331-43f6-b52a-11ad04e3bef2",
   "metadata": {},
   "source": [
    "**The RNN model with stacked recurrent layers and layers.GRU() gave the MAE lesser than the baseline MAE i.e 2.62 which means that this model is the efficient one.**"
   ]
  },
  {
   "cell_type": "markdown",
   "id": "f106a1d4-a44f-4d42-8d64-15080a988463",
   "metadata": {},
   "source": [
    "### **Running the best model on the test dataset**"
   ]
  },
  {
   "cell_type": "code",
   "execution_count": 28,
   "id": "1df70666-e01a-4816-bcc3-beafe08c194d",
   "metadata": {},
   "outputs": [
    {
     "name": "stdout",
     "output_type": "stream",
     "text": [
      "405/405 [==============================] - 12s 27ms/step - loss: 9.9652 - mae: 2.4606\n",
      "Test MAE: 2.46\n"
     ]
    }
   ],
   "source": [
    "import tensorflow as tf\n",
    "\n",
    "# Load the saved model with the best validation performance\n",
    "best_model = tf.keras.models.load_model(\"jena_stacked_gru_dropout.keras\")\n",
    "\n",
    "# Assuming test_dataset is prepared and contains the test data\n",
    "# Evaluate the best model on the test dataset\n",
    "test_mae = best_model.evaluate(test_dataset)[1]\n",
    "\n",
    "print(f\"Test MAE: {test_mae:.2f}\")"
   ]
  }
 ],
 "metadata": {
  "kernelspec": {
   "display_name": "Python 3",
   "language": "python",
   "name": "python3"
  },
  "language_info": {
   "codemirror_mode": {
    "name": "ipython",
    "version": 3
   },
   "file_extension": ".py",
   "mimetype": "text/x-python",
   "name": "python",
   "nbconvert_exporter": "python",
   "pygments_lexer": "ipython3",
   "version": "3.6.8"
  }
 },
 "nbformat": 4,
 "nbformat_minor": 5
}
